{
 "cells": [
  {
   "cell_type": "code",
   "execution_count": 1,
   "id": "54bec372-e090-41ef-ad94-34989ff53522",
   "metadata": {},
   "outputs": [
    {
     "name": "stdout",
     "output_type": "stream",
     "text": [
      "         Date       Open       High        Low      Close  Adj Close  Volume\n",
      "0  2003-12-01  45.709000  45.728001  45.449001  45.480000  45.480000     0.0\n",
      "1  2003-12-08  45.474998  45.507999  45.352001  45.451000  45.451000     0.0\n",
      "2  2003-12-15  45.450001  45.500000  45.332001  45.455002  45.455002     0.0\n",
      "3  2003-12-22  45.417000  45.549000  45.296001  45.507999  45.507999     0.0\n",
      "4  2003-12-29  45.439999  45.645000  45.421001  45.560001  45.560001     0.0\n"
     ]
    }
   ],
   "source": [
    "import pandas as pd\n",
    "import numpy as np\n",
    "import seaborn as sns\n",
    "\n",
    "data = pd.read_csv(\"../data/INR-USD.csv\")\n",
    "\n",
    "print(data.head())"
   ]
  },
  {
   "cell_type": "code",
   "execution_count": 2,
   "id": "0192ad8b-9e0c-403a-a870-6ac9acf230aa",
   "metadata": {},
   "outputs": [
    {
     "name": "stdout",
     "output_type": "stream",
     "text": [
      "Date         0\n",
      "Open         3\n",
      "High         3\n",
      "Low          3\n",
      "Close        3\n",
      "Adj Close    3\n",
      "Volume       3\n",
      "dtype: int64\n"
     ]
    }
   ],
   "source": [
    "print(data.isnull().sum())"
   ]
  },
  {
   "cell_type": "code",
   "execution_count": 4,
   "id": "2fcbf6e8-a5fe-45d7-8a8b-271b2c177fd0",
   "metadata": {},
   "outputs": [
    {
     "name": "stdout",
     "output_type": "stream",
     "text": [
      "Stored 'data' (DataFrame)\n",
      "              Open         High          Low        Close    Adj Close  Volume\n",
      "count  1013.000000  1013.000000  1013.000000  1013.000000  1013.000000  1013.0\n",
      "mean     58.035208    58.506681    57.654706    58.056509    58.056509     0.0\n",
      "std      12.614635    12.716632    12.565279    12.657407    12.657407     0.0\n",
      "min      38.995998    39.334999    38.979000    39.044998    39.044998     0.0\n",
      "25%      45.508999    45.775002    45.231998    45.498001    45.498001     0.0\n",
      "50%      59.702999    60.342999    59.209999    59.840000    59.840000     0.0\n",
      "75%      68.508499    69.099998    68.250000    68.538002    68.538002     0.0\n",
      "max      82.917999    83.386002    82.563004    82.932999    82.932999     0.0\n"
     ]
    }
   ],
   "source": [
    "data = data.dropna()\n",
    "%store data\n",
    "print(data.describe())"
   ]
  }
 ],
 "metadata": {
  "kernelspec": {
   "display_name": "Python 3 (ipykernel)",
   "language": "python",
   "name": "python3"
  },
  "language_info": {
   "codemirror_mode": {
    "name": "ipython",
    "version": 3
   },
   "file_extension": ".py",
   "mimetype": "text/x-python",
   "name": "python",
   "nbconvert_exporter": "python",
   "pygments_lexer": "ipython3",
   "version": "3.11.1"
  }
 },
 "nbformat": 4,
 "nbformat_minor": 5
}
